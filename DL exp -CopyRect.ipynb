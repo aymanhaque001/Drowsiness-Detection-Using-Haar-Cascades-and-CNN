{
 "cells": [
  {
   "cell_type": "code",
   "execution_count": 1,
   "metadata": {},
   "outputs": [
    {
     "name": "stderr",
     "output_type": "stream",
     "text": [
      "Using TensorFlow backend.\n"
     ]
    },
    {
     "name": "stdout",
     "output_type": "stream",
     "text": [
      "pygame 2.0.0 (SDL 2.0.12, python 3.7.9)\n",
      "Hello from the pygame community. https://www.pygame.org/contribute.html\n"
     ]
    }
   ],
   "source": [
    "import cv2\n",
    "import os\n",
    "from keras.models import load_model\n",
    "import numpy as np\n",
    "from pygame import mixer\n",
    "import time\n",
    "import matplotlib.pyplot as plt"
   ]
  },
  {
   "cell_type": "code",
   "execution_count": 2,
   "metadata": {},
   "outputs": [
    {
     "name": "stdout",
     "output_type": "stream",
     "text": [
      "Cascade loaded successfully\n",
      "Model loaded successfully\n"
     ]
    }
   ],
   "source": [
    "mixer.init()\n",
    "sound = mixer.Sound('alarm.wav')\n",
    "\n",
    "try:\n",
    "    face = cv2.CascadeClassifier('haar-cascade-files/haarcascade_frontalface_alt.xml')\n",
    "    leye = cv2.CascadeClassifier('haar-cascade-files/haarcascade_lefteye_2splits.xml')\n",
    "    reye = cv2.CascadeClassifier('haar-cascade-files/haarcascade_righteye_2splits.xml')\n",
    "#     eyePair_cascade = cv2.CascadeClassifier('./haar-cascade/haarcascades_haarcascade_mcs_eyepair_big.xml') #eye_pair\n",
    "    print(\"Cascade loaded successfully\")\n",
    "except:\n",
    "    print(\"Can not open file\")\n",
    "\n",
    "\n",
    "lbl=['Close','Open']\n",
    "try:\n",
    "    model = load_model('my_modelexp1.h5')\n",
    "    print(\"Model loaded successfully\")\n",
    "except:\n",
    "    print(\"can not load model\")\n",
    "    \n",
    "path = os.getcwd()\n",
    "\n",
    "font = cv2.FONT_HERSHEY_COMPLEX_SMALL\n",
    "count=0\n",
    "score=0\n",
    "thicc=2\n",
    "right_eye_pred=[99]\n",
    "left_eye_pred=[99]"
   ]
  },
  {
   "cell_type": "code",
   "execution_count": 4,
   "metadata": {},
   "outputs": [
    {
     "ename": "NameError",
     "evalue": "name 'ex' is not defined",
     "output_type": "error",
     "traceback": [
      "\u001b[1;31m---------------------------------------------------------------------------\u001b[0m",
      "\u001b[1;31mNameError\u001b[0m                                 Traceback (most recent call last)",
      "\u001b[1;32m<ipython-input-4-986b80cf1007>\u001b[0m in \u001b[0;36m<module>\u001b[1;34m\u001b[0m\n\u001b[0;32m     27\u001b[0m \u001b[1;33m\u001b[0m\u001b[0m\n\u001b[0;32m     28\u001b[0m         \u001b[1;32mfor\u001b[0m \u001b[1;33m(\u001b[0m\u001b[0mx\u001b[0m\u001b[1;33m,\u001b[0m\u001b[0my\u001b[0m\u001b[1;33m,\u001b[0m\u001b[0mw\u001b[0m\u001b[1;33m,\u001b[0m\u001b[0mh\u001b[0m\u001b[1;33m)\u001b[0m \u001b[1;32min\u001b[0m \u001b[0mright_eye\u001b[0m\u001b[1;33m:\u001b[0m\u001b[1;33m\u001b[0m\u001b[1;33m\u001b[0m\u001b[0m\n\u001b[1;32m---> 29\u001b[1;33m             \u001b[0mcv2\u001b[0m\u001b[1;33m.\u001b[0m\u001b[0mrectangle\u001b[0m\u001b[1;33m(\u001b[0m\u001b[0mcolor\u001b[0m\u001b[1;33m,\u001b[0m\u001b[1;33m(\u001b[0m\u001b[0mex\u001b[0m\u001b[1;33m,\u001b[0m\u001b[0mey\u001b[0m\u001b[1;33m)\u001b[0m\u001b[1;33m,\u001b[0m\u001b[1;33m(\u001b[0m\u001b[0mex\u001b[0m\u001b[1;33m+\u001b[0m\u001b[0mew\u001b[0m\u001b[1;33m,\u001b[0m\u001b[0mey\u001b[0m\u001b[1;33m+\u001b[0m\u001b[0meh\u001b[0m\u001b[1;33m)\u001b[0m\u001b[1;33m,\u001b[0m\u001b[1;33m(\u001b[0m\u001b[1;36m0\u001b[0m\u001b[1;33m,\u001b[0m\u001b[1;36m255\u001b[0m\u001b[1;33m,\u001b[0m\u001b[1;36m0\u001b[0m\u001b[1;33m)\u001b[0m\u001b[1;33m,\u001b[0m\u001b[1;36m2\u001b[0m\u001b[1;33m)\u001b[0m\u001b[1;33m\u001b[0m\u001b[1;33m\u001b[0m\u001b[0m\n\u001b[0m\u001b[0;32m     30\u001b[0m             \u001b[0mr_eye\u001b[0m\u001b[1;33m=\u001b[0m\u001b[0mimg\u001b[0m\u001b[1;33m[\u001b[0m\u001b[0my\u001b[0m\u001b[1;33m:\u001b[0m\u001b[0my\u001b[0m\u001b[1;33m+\u001b[0m\u001b[0mh\u001b[0m\u001b[1;33m,\u001b[0m\u001b[0mx\u001b[0m\u001b[1;33m:\u001b[0m\u001b[0mx\u001b[0m\u001b[1;33m+\u001b[0m\u001b[0mw\u001b[0m\u001b[1;33m]\u001b[0m\u001b[1;33m\u001b[0m\u001b[1;33m\u001b[0m\u001b[0m\n\u001b[0;32m     31\u001b[0m             \u001b[0mcount\u001b[0m\u001b[1;33m=\u001b[0m\u001b[0mcount\u001b[0m\u001b[1;33m+\u001b[0m\u001b[1;36m1\u001b[0m\u001b[1;33m\u001b[0m\u001b[1;33m\u001b[0m\u001b[0m\n",
      "\u001b[1;31mNameError\u001b[0m: name 'ex' is not defined"
     ]
    }
   ],
   "source": [
    "try:\n",
    "    cap = cv2.VideoCapture(0)\n",
    "except:\n",
    "    print(\"Can not initialize camera\")\n",
    "\n",
    "while(True):\n",
    "    try:\n",
    "        ret, img = cap.read()\n",
    "    except:\n",
    "        print(\"Can not read image\")\n",
    "        \n",
    "    height,width = img.shape[:2] \n",
    "\n",
    "    gray = cv2.cvtColor(img, cv2.COLOR_BGR2GRAY)\n",
    "  \n",
    "    faces = face.detectMultiScale(gray,minNeighbors=5,scaleFactor=1.1,minSize=(5,5))\n",
    "    \n",
    "    left_eye = leye.detectMultiScale(gray)\n",
    "    right_eye =  reye.detectMultiScale(gray)\n",
    "    \n",
    "    defaultPicture = np.zeros((60,150,1)) # black picture\n",
    "    cv2.rectangle(img, (0,height-50) , (200,height) , (0,0,0) , thickness=cv2.FILLED )\n",
    "\n",
    "    for (x,y,w,h) in faces:\n",
    "        color = img[y:y+h, x:x+w]\n",
    "        cv2.rectangle(img, (x,y) , (x+w,y+h) , (100,100,100) , 1 )\n",
    "\n",
    "        for (x,y,w,h) in right_eye:\n",
    "            cv2.rectangle(color,(ex,ey),(ex+ew,ey+eh),(0,255,0),2)\n",
    "            r_eye=img[y:y+h,x:x+w]\n",
    "            count=count+1\n",
    "            r_eye = cv2.cvtColor(r_eye,cv2.COLOR_BGR2GRAY)\n",
    "            r_eye = cv2.resize(r_eye,(24,24))\n",
    "            r_eye= r_eye/255\n",
    "            r_eye=  r_eye.reshape(24,24,-1)\n",
    "            r_eye = np.expand_dims(r_eye,axis=0)\n",
    "            right_eye_pred = model.predict_classes(r_eye)\n",
    "            if(right_eye_pred[0]==0):\n",
    "                lbl='Open' \n",
    "            if(right_eye_pred[0]==1):\n",
    "                lbl='Closed'\n",
    "            break\n",
    "\n",
    "        for (x,y,w,h) in left_eye:\n",
    "            cv2.rectangle(color,(ex,ey),(ex+ew,ey+eh),(0,0,255),2)\n",
    "            l_eye=img[y:y+h,x:x+w]\n",
    "            count=count+1\n",
    "            l_eye = cv2.cvtColor(l_eye,cv2.COLOR_BGR2GRAY)  \n",
    "            l_eye = cv2.resize(l_eye,(24,24))\n",
    "            l_eye= l_eye/255\n",
    "            l_eye=l_eye.reshape(24,24,-1)\n",
    "            l_eye = np.expand_dims(l_eye,axis=0)\n",
    "            left_eye_pred = model.predict_classes(l_eye)\n",
    "            if(left_eye_pred[0]==0):\n",
    "                lbl='Open'   \n",
    "            if(left_eye_pred[0]==1):\n",
    "                lbl='Closed'\n",
    "            break\n",
    "\n",
    "    if(right_eye_pred[0]==0 and left_eye_pred[0]==0):\n",
    "        score=score+1\n",
    "        cv2.putText(img,\"Closed\",(10,height-20), font, 1,(255,255,255),1,cv2.LINE_AA)\n",
    "    # if(rpred[0]==1 or lpred[0]==1):\n",
    "    else:\n",
    "        score=score-1\n",
    "        cv2.putText(img,\"Open\",(10,height-20), font, 1,(255,255,255),1,cv2.LINE_AA)\n",
    "    \n",
    "        \n",
    "    if(score<0):\n",
    "        score=0   \n",
    "    cv2.putText(img,'Score:'+str(score),(100,height-20), font, 1,(255,255,255),1,cv2.LINE_AA)\n",
    "    if(score>15):\n",
    "        #person is feeling sleepy so we beep the alarm\n",
    "        cv2.imwrite(os.path.join(path,'image.jpg'),img)\n",
    "        try:\n",
    "            sound.play()\n",
    "            \n",
    "        except:  # isplaying = False\n",
    "            pass\n",
    "        if(thicc<16):\n",
    "            thicc= thicc+2\n",
    "        else:\n",
    "            thicc=thicc-2\n",
    "            if(thicc<2):\n",
    "                thicc=2\n",
    "        cv2.rectangle(img,(0,0),(width,height),(0,0,255),thicc) \n",
    "    cv2.imshow('IMAGE',img)\n",
    "    if cv2.waitKey(1) & 0xFF == ord('q'):\n",
    "        break\n",
    "cap.release()\n",
    "cv2.destroyAllWindows()\n"
   ]
  },
  {
   "cell_type": "code",
   "execution_count": null,
   "metadata": {},
   "outputs": [],
   "source": [
    "print(img)"
   ]
  },
  {
   "cell_type": "code",
   "execution_count": null,
   "metadata": {},
   "outputs": [],
   "source": [
    "cap.read()"
   ]
  },
  {
   "cell_type": "code",
   "execution_count": null,
   "metadata": {},
   "outputs": [],
   "source": [
    "plt.imshow(l_eye)"
   ]
  }
 ],
 "metadata": {
  "kernelspec": {
   "display_name": "Python 3",
   "language": "python",
   "name": "python3"
  },
  "language_info": {
   "codemirror_mode": {
    "name": "ipython",
    "version": 3
   },
   "file_extension": ".py",
   "mimetype": "text/x-python",
   "name": "python",
   "nbconvert_exporter": "python",
   "pygments_lexer": "ipython3",
   "version": "3.7.9"
  }
 },
 "nbformat": 4,
 "nbformat_minor": 4
}
